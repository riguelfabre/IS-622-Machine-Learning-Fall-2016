{
 "cells": [
  {
   "cell_type": "code",
   "execution_count": 2,
   "metadata": {
    "collapsed": false
   },
   "outputs": [],
   "source": [
    "import time \n",
    "import requests\n",
    "import cv2\n",
    "import operator\n",
    "import pandas as pd\n",
    "import numpy as np\n",
    "from __future__ import print_function\n",
    "\n",
    "# Import library to display results\n",
    "import matplotlib.pyplot as plt\n",
    "from matplotlib import pyplot\n",
    "%matplotlib inline \n",
    "# Display images within Jupyter"
   ]
  },
  {
   "cell_type": "code",
   "execution_count": 3,
   "metadata": {
    "collapsed": false
   },
   "outputs": [],
   "source": [
    "emotions = pd.read_csv('500_images.csv')"
   ]
  },
  {
   "cell_type": "code",
   "execution_count": 4,
   "metadata": {
    "collapsed": false
   },
   "outputs": [],
   "source": [
    "filenames = emotions[\"Image Name\"]"
   ]
  },
  {
   "cell_type": "code",
   "execution_count": 7,
   "metadata": {
    "collapsed": false
   },
   "outputs": [],
   "source": [
    "#Scaling\n",
    "\n",
    "num = 1\n",
    "for name in filenames:\n",
    "    pathToFileInDisk = name\n",
    "    img = cv2.imread(name)\n",
    "    height, width = img.shape[:2]\n",
    "    res = cv2.resize(img,(10*width, 10*height), interpolation = cv2.INTER_CUBIC)\n",
    "    cv2.imwrite('Scale'+str(num)+'.jpg', res)\n",
    "    num=num+1\n"
   ]
  },
  {
   "cell_type": "code",
   "execution_count": 8,
   "metadata": {
    "collapsed": false
   },
   "outputs": [],
   "source": [
    "#Translation\n",
    "\n",
    "num = 1\n",
    "for name in filenames:\n",
    "    pathToFileInDisk = name\n",
    "    img = cv2.imread(name)\n",
    "    rows,cols = img.shape[:2]\n",
    "    M = np.float32([[1,0,100],[0,1,50]])\n",
    "    dst = cv2.warpAffine(img,M,(cols,rows))\n",
    "    cv2.imwrite('Translation'+str(num)+'.jpg', dst)\n",
    "    num=num+1"
   ]
  },
  {
   "cell_type": "code",
   "execution_count": 9,
   "metadata": {
    "collapsed": true
   },
   "outputs": [],
   "source": [
    "#Rotation\n",
    "\n",
    "num = 1\n",
    "for name in filenames:\n",
    "    pathToFileInDisk = name\n",
    "    img = cv2.imread(name)\n",
    "    rows,cols = img.shape[:2]\n",
    "    M = cv2.getRotationMatrix2D((cols/2,rows/2),90,1)\n",
    "    dst = cv2.warpAffine(img,M,(cols,rows))\n",
    "    cv2.imwrite('Rotation'+str(num)+'.jpg', dst)\n",
    "    num=num+1"
   ]
  },
  {
   "cell_type": "code",
   "execution_count": 11,
   "metadata": {
    "collapsed": false
   },
   "outputs": [],
   "source": [
    "#Affine Transformation\n",
    "\n",
    "num = 1\n",
    "for name in filenames:\n",
    "    pathToFileInDisk = name\n",
    "    img = cv2.imread(name)\n",
    "    rows,cols = img.shape[:2]\n",
    "    pts1 = np.float32([[50,50],[200,50],[50,200]])\n",
    "    pts2 = np.float32([[10,100],[200,50],[100,250]])\n",
    "    M = cv2.getAffineTransform(pts1,pts2)\n",
    "    dst = cv2.warpAffine(img,M,(cols,rows))\n",
    "    cv2.imwrite('Affine'+str(num)+'.jpg', dst)\n",
    "    num=num+1"
   ]
  },
  {
   "cell_type": "code",
   "execution_count": 16,
   "metadata": {
    "collapsed": true
   },
   "outputs": [],
   "source": [
    "#Perspective Transformation\n",
    "\n",
    "num = 1\n",
    "for name in filenames:\n",
    "    pathToFileInDisk = name\n",
    "    img = cv2.imread(name)\n",
    "    rows,cols = img.shape[:2]\n",
    "    pts1 = np.float32([[56,65],[368,52],[28,387],[389,390]])\n",
    "    pts2 = np.float32([[0,0],[300,0],[0,300],[300,300]])\n",
    "    M = cv2.getPerspectiveTransform(pts1,pts2)\n",
    "    dst = cv2.warpPerspective(img,M,(300,300))\n",
    "    cv2.imwrite('Perspective'+str(num)+'.jpg', dst)\n",
    "    num=num+1"
   ]
  },
  {
   "cell_type": "code",
   "execution_count": 28,
   "metadata": {
    "collapsed": false
   },
   "outputs": [],
   "source": [
    "#Gaussian Filtering\n",
    "\n",
    "num = 1\n",
    "for name in filenames:\n",
    "    pathToFileInDisk = name\n",
    "    img = cv2.imread(name)\n",
    "    Gblur = cv2.GaussianBlur(img,(5,5),3)\n",
    "    cv2.imwrite('Gblur'+str(num)+'.jpg', Gblur)\n",
    "    num=num+1"
   ]
  },
  {
   "cell_type": "code",
   "execution_count": 6,
   "metadata": {
    "collapsed": true
   },
   "outputs": [],
   "source": [
    "#Erosion\n",
    "\n",
    "num = 1\n",
    "for name in filenames:\n",
    "    pathToFileInDisk = name\n",
    "    img = cv2.imread(name,0)\n",
    "    kernel = np.ones((10,10),np.uint8)\n",
    "    erosion = cv2.erode(img,kernel,iterations = 1)\n",
    "    cv2.imwrite('erosion'+str(num)+'.jpg', erosion)\n",
    "    num=num+1"
   ]
  },
  {
   "cell_type": "code",
   "execution_count": 7,
   "metadata": {
    "collapsed": true
   },
   "outputs": [],
   "source": [
    "#Dilation\n",
    "\n",
    "num = 1\n",
    "for name in filenames:\n",
    "    pathToFileInDisk = name\n",
    "    img = cv2.imread(name,0)\n",
    "    kernel = np.ones((5,5),np.uint8)\n",
    "    dilation = cv2.dilate(img,kernel,iterations = 1)\n",
    "    cv2.imwrite('Dilation'+str(num)+'.jpg', dilation)\n",
    "    num=num+1"
   ]
  },
  {
   "cell_type": "code",
   "execution_count": 8,
   "metadata": {
    "collapsed": false
   },
   "outputs": [],
   "source": [
    "#Gradient\n",
    "\n",
    "num = 1\n",
    "for name in filenames:\n",
    "    pathToFileInDisk = name\n",
    "    img = cv2.imread(name,0)\n",
    "    kernel = np.ones((5,5),np.uint8)\n",
    "    gradient = cv2.morphologyEx(img, cv2.MORPH_GRADIENT, kernel)\n",
    "    cv2.imwrite('Gradient'+str(num)+'.jpg', gradient)\n",
    "    num=num+1"
   ]
  },
  {
   "cell_type": "code",
   "execution_count": 11,
   "metadata": {
    "collapsed": false
   },
   "outputs": [],
   "source": [
    "#Sobel Derivatives\n",
    "\n",
    "\n",
    "num = 1\n",
    "for name in filenames:\n",
    "    pathToFileInDisk = name\n",
    "    img = cv2.imread(name,0)\n",
    "    sobelx = cv2.Sobel(img,cv2.CV_64F,1,0,ksize=5)\n",
    "    cv2.imwrite('Sobelx'+str(num)+'.jpg', sobelx)\n",
    "    num=num+1"
   ]
  }
 ],
 "metadata": {
  "anaconda-cloud": {},
  "kernelspec": {
   "display_name": "Python 2",
   "language": "python",
   "name": "python2"
  },
  "language_info": {
   "codemirror_mode": {
    "name": "ipython",
    "version": 2
   },
   "file_extension": ".py",
   "mimetype": "text/x-python",
   "name": "python",
   "nbconvert_exporter": "python",
   "pygments_lexer": "ipython2",
   "version": "2.7.11"
  }
 },
 "nbformat": 4,
 "nbformat_minor": 0
}
